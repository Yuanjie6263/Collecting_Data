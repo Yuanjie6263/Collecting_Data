{
 "cells": [
  {
   "cell_type": "code",
   "execution_count": 1,
   "id": "ab612d69",
   "metadata": {},
   "outputs": [],
   "source": [
    "import requests"
   ]
  },
  {
   "cell_type": "code",
   "execution_count": 75,
   "id": "bbff594e",
   "metadata": {},
   "outputs": [],
   "source": [
    "import pandas as pd"
   ]
  },
  {
   "cell_type": "code",
   "execution_count": 74,
   "id": "28172c25",
   "metadata": {},
   "outputs": [],
   "source": [
    "from bs4 import BeautifulSoup"
   ]
  },
  {
   "cell_type": "code",
   "execution_count": 122,
   "id": "923855c9",
   "metadata": {},
   "outputs": [],
   "source": [
    "def extract_lyrics(url):\n",
    "    response = requests.get(url)\n",
    "    html_string = response.text\n",
    "    document = BeautifulSoup(html_string, 'html.parser')\n",
    "    cleantitle = document.find('h1').text.replace('lyrics', '').replace('\"', '')\n",
    "    cleanartist = document.find('h2').text.replace('Lyrics', '')\n",
    "    text = document.find('div', attrs = 'col-xs-12 col-lg-8 text-center').text.replace('\\\\', '').replace('\\n', '')\n",
    "    string1 = 'Submit Corrections'\n",
    "    head, seq, tail = text.partition(string1)\n",
    "    lyrics = head\n",
    "    _,body = lyrics.split('\\r', 1)\n",
    "    cleanlyrics = body.replace('\\r', ',')\n",
    "    return cleantitle,cleanartist, cleanlyrics"
   ]
  },
  {
   "cell_type": "code",
   "execution_count": 123,
   "id": "e1b0de3b",
   "metadata": {},
   "outputs": [],
   "source": [
    "def get_csv(urls):\n",
    "    list = []\n",
    "    for url in urls:\n",
    "        list.append(extract_lyrics(url))\n",
    "    lrc = pd.DataFrame(list, columns = ['Title','Artist', 'Lyrics'])\n",
    "    lrc.to_csv('Lyrics.csv')"
   ]
  },
  {
   "cell_type": "code",
   "execution_count": 124,
   "id": "93dd3eca",
   "metadata": {},
   "outputs": [],
   "source": [
    "urls = ('https://www.azlyrics.com/lyrics/daftpunk/aroundtheworld.html', \n",
    "        'https://www.azlyrics.com/lyrics/daftpunk/teachers.html', \n",
    "        'https://www.azlyrics.com/lyrics/daftpunk/ohyeah.html')\n",
    "get_csv(urls)\n"
   ]
  },
  {
   "cell_type": "code",
   "execution_count": 125,
   "id": "265053c8",
   "metadata": {},
   "outputs": [
    {
     "data": {
      "text/html": [
       "<div>\n",
       "<style scoped>\n",
       "    .dataframe tbody tr th:only-of-type {\n",
       "        vertical-align: middle;\n",
       "    }\n",
       "\n",
       "    .dataframe tbody tr th {\n",
       "        vertical-align: top;\n",
       "    }\n",
       "\n",
       "    .dataframe thead th {\n",
       "        text-align: right;\n",
       "    }\n",
       "</style>\n",
       "<table border=\"1\" class=\"dataframe\">\n",
       "  <thead>\n",
       "    <tr style=\"text-align: right;\">\n",
       "      <th></th>\n",
       "      <th>Unnamed: 0</th>\n",
       "      <th>Title</th>\n",
       "      <th>Artist</th>\n",
       "      <th>Lyrics</th>\n",
       "    </tr>\n",
       "  </thead>\n",
       "  <tbody>\n",
       "    <tr>\n",
       "      <th>0</th>\n",
       "      <td>0</td>\n",
       "      <td>Around The World</td>\n",
       "      <td>Daft Punk</td>\n",
       "      <td>Around the world, around the world ,Around the...</td>\n",
       "    </tr>\n",
       "    <tr>\n",
       "      <th>1</th>\n",
       "      <td>1</td>\n",
       "      <td>Teachers</td>\n",
       "      <td>Daft Punk</td>\n",
       "      <td>Paul JohnsonDJ FunkDJ SneakDJ RushWaxmasterHyp...</td>\n",
       "    </tr>\n",
       "    <tr>\n",
       "      <th>2</th>\n",
       "      <td>2</td>\n",
       "      <td>Oh Yeah</td>\n",
       "      <td>Daft Punk</td>\n",
       "      <td>Oh Yeah ,... ,Everybody dance ,Crazy on the da...</td>\n",
       "    </tr>\n",
       "  </tbody>\n",
       "</table>\n",
       "</div>"
      ],
      "text/plain": [
       "   Unnamed: 0              Title      Artist  \\\n",
       "0           0  Around The World   Daft Punk    \n",
       "1           1          Teachers   Daft Punk    \n",
       "2           2           Oh Yeah   Daft Punk    \n",
       "\n",
       "                                              Lyrics  \n",
       "0  Around the world, around the world ,Around the...  \n",
       "1  Paul JohnsonDJ FunkDJ SneakDJ RushWaxmasterHyp...  \n",
       "2  Oh Yeah ,... ,Everybody dance ,Crazy on the da...  "
      ]
     },
     "execution_count": 125,
     "metadata": {},
     "output_type": "execute_result"
    }
   ],
   "source": [
    "df = pd.read_csv('Lyrics.csv')\n",
    "df"
   ]
  },
  {
   "cell_type": "code",
   "execution_count": null,
   "id": "5ac133f4",
   "metadata": {},
   "outputs": [],
   "source": []
  }
 ],
 "metadata": {
  "kernelspec": {
   "display_name": "Python 3 (ipykernel)",
   "language": "python",
   "name": "python3"
  },
  "language_info": {
   "codemirror_mode": {
    "name": "ipython",
    "version": 3
   },
   "file_extension": ".py",
   "mimetype": "text/x-python",
   "name": "python",
   "nbconvert_exporter": "python",
   "pygments_lexer": "ipython3",
   "version": "3.9.12"
  }
 },
 "nbformat": 4,
 "nbformat_minor": 5
}
